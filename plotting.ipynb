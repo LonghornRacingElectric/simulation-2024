{
 "cells": [
  {
   "cell_type": "code",
   "execution_count": 4,
   "metadata": {},
   "outputs": [],
   "source": [
    "from sim.system_models.vehicle_systems.suspension_model import SuspensionModel\n",
    "\n",
    "from sim.model_parameters.cars.car import Car\n",
    "from sim.system_models.vectors.controls_vector import ControlsVector\n",
    "from sim.system_models.vectors.observables_vector import ObservablesVector\n",
    "from sim.system_models.vectors.state_vector import StateVector\n",
    "from sim.system_models.vectors.state_dot_vector import StateDotVector\n",
    "\n",
    "import numpy as np\n",
    "\n",
    "new_model = SuspensionModel()\n",
    "test_car = Car()\n",
    "test_controls_vector = ControlsVector()\n",
    "test_state_vector = StateVector()\n",
    "test_state_dot_vector = StateDotVector()\n",
    "test_observables_vector = ObservablesVector()\n",
    "\n",
    "test_state_vector.heave = 0.0323905876703653\n",
    "test_state_vector.pitch = 0.0198397994395918\n",
    "test_state_vector.roll = 0.00050067110284662\n",
    "test_state_vector.lateral_accel = 0\n",
    "test_state_vector.long_accel = 0\n",
    "test_state_vector.yaw_accel = 0\n",
    "\n",
    "test_controls_vector.steering_angle = -0.349065850398865\n",
    "\n",
    "test_state_vector.body_slip = -0.174532925199432\n",
    "test_state_vector.velocity = 25"
   ]
  },
  {
   "cell_type": "code",
   "execution_count": 5,
   "metadata": {},
   "outputs": [
    {
     "name": "stdout",
     "output_type": "stream",
     "text": [
      "[-0.10814788742334433, -0.08587550884726952]\n",
      "Normal loads: [2378.0527381666743, 2396.0232155038902, 1384.2376806894908, 1398.6153185720623]\n",
      "Slip angles: [0.06638503777608765, 0.08865741635216245, 0.17453292519943198, 0.17453292519943198]\n",
      "Inclination angles: [0.01745, -0.01745, 0.01745, -0.01745]\n"
     ]
    }
   ],
   "source": [
    "new_model.eval(vehicle_parameters = test_car, controls_vector = test_controls_vector, state_vector = test_state_vector, \n",
    "               state_dot_vector = test_state_dot_vector, observables_vector = test_observables_vector)"
   ]
  },
  {
   "cell_type": "code",
   "execution_count": 6,
   "metadata": {},
   "outputs": [
    {
     "name": "stdout",
     "output_type": "stream",
     "text": [
      "[2.7088421530858895e-60, -1706.2037339049732, 2378.0527381666743]\n",
      "[2.529791058285659e-60, -2072.157269133161, 2396.0232155038902]\n",
      "[1.3832575468729478e-60, -1913.6567815007147, 1384.2376806894908]\n",
      "[1.4017844796279844e-60, -1942.8412500362165, 1398.6153185720623]\n"
     ]
    }
   ],
   "source": [
    "for item in test_observables_vector.tire_forces:\n",
    "    print(item)"
   ]
  }
 ],
 "metadata": {
  "kernelspec": {
   "display_name": "Python 3",
   "language": "python",
   "name": "python3"
  },
  "language_info": {
   "codemirror_mode": {
    "name": "ipython",
    "version": 3
   },
   "file_extension": ".py",
   "mimetype": "text/x-python",
   "name": "python",
   "nbconvert_exporter": "python",
   "pygments_lexer": "ipython3",
   "version": "3.9.6"
  },
  "orig_nbformat": 4
 },
 "nbformat": 4,
 "nbformat_minor": 2
}
